{
 "cells": [
  {
   "cell_type": "code",
   "execution_count": 1,
   "metadata": {},
   "outputs": [],
   "source": [
    "grid=[\n",
    "    [1,1,0,1,1,1,1,1],\n",
    "    [0,1,1,1,0,0,0,1],\n",
    "    [0,1,1,1,0,1,0,0],\n",
    "    [1,1,1,0,0,1,1,1],\n",
    "    [1,0,1,1,1,0,0,1],\n",
    "    [1,0,0,0,0,0,1,1],\n",
    "    [1,0,1,1,1,0,0,1],\n",
    "    [1,1,1,0,1,1,1,1]\n",
    "]\n",
    "\n",
    "grid2 = [ \n",
    "    [1, 0, 0, 0], \n",
    "    [1, 1, 0, 1], \n",
    "    [0, 1, 0, 0], \n",
    "    [1, 1, 1, 1] \n",
    "]\n",
    "N=8\n",
    "goal= (5,2)"
   ]
  },
  {
   "cell_type": "code",
   "execution_count": 2,
   "metadata": {},
   "outputs": [],
   "source": [
    "def printSolution(sol):\n",
    "    for i in sol :\n",
    "        for j in i :\n",
    "            print(format(j,'02'),end=\" \")\n",
    "        print(\"\\n\")\n",
    "def isSafe(x,y,sol):\n",
    "    return (x<N and x>=0 and y<N and y>=0) and grid[y][x] is 1 and sol[y][x] is 0\n",
    "\n",
    "def solve():\n",
    "    sol = [[0 for i in range(N)] for j in range(N)]\n",
    "    sol[0][0]=1\n",
    "    if(solveReccursive(0,0,sol,1) is False):\n",
    "        print(\"No solution was found\")\n",
    "        return False\n",
    "    else:\n",
    "        printSolution(sol)\n",
    "        return True\n",
    "\n",
    "def solveReccursive(x,y,sol,order):\n",
    "    if((x,y) ==  goal):\n",
    "        print(\"A solution was found\")\n",
    "        return True\n",
    "     #Go Up\n",
    "    if(isSafe(x,y+1,sol)):\n",
    "        sol[y+1][x]=order+1\n",
    "        if(solveReccursive(x,y+1,sol,order+1)):\n",
    "            return True\n",
    "        else:\n",
    "            sol[y+1][x] = 0\n",
    "    #Go Down\n",
    "    if(isSafe(x,y-1,sol)):\n",
    "        sol[y-1][x]=order+1\n",
    "        if(solveReccursive(x,y-1,sol,order+1)):\n",
    "            return True\n",
    "        else:\n",
    "            sol[y-1][x] = 0\n",
    "    #Go Right\n",
    "    if(isSafe(x+1,y,sol)):\n",
    "        sol[y][x+1]=order+1\n",
    "        if(solveReccursive(x+1,y,sol,order+1)):\n",
    "            return True\n",
    "        else:\n",
    "            sol[y][x+1] = 0\n",
    "    #Go Left\n",
    "    if(isSafe(x-1,y,sol)):\n",
    "        sol[y][x-1]=order+1\n",
    "        if(solveReccursive(x-1,y,sol,order+1)):\n",
    "            return True\n",
    "        else:\n",
    "            sol[y][x-1] = 0\n",
    "   \n",
    "    return False\n",
    "            "
   ]
  },
  {
   "cell_type": "code",
   "execution_count": 3,
   "metadata": {},
   "outputs": [
    {
     "name": "stdout",
     "output_type": "stream",
     "text": [
      "I found you\n",
      "01 02 00 00 00 00 00 00 \n",
      "\n",
      "00 03 00 00 00 00 00 00 \n",
      "\n",
      "00 04 00 00 00 26 00 00 \n",
      "\n",
      "06 05 00 00 00 25 24 23 \n",
      "\n",
      "07 00 00 00 00 00 00 22 \n",
      "\n",
      "08 00 00 00 00 00 00 21 \n",
      "\n",
      "09 00 13 14 15 00 00 20 \n",
      "\n",
      "10 11 12 00 16 17 18 19 \n",
      "\n"
     ]
    },
    {
     "data": {
      "text/plain": [
       "True"
      ]
     },
     "execution_count": 3,
     "metadata": {},
     "output_type": "execute_result"
    }
   ],
   "source": [
    "solve()"
   ]
  }
 ],
 "metadata": {
  "kernelspec": {
   "display_name": "Python 3",
   "language": "python",
   "name": "python3"
  },
  "language_info": {
   "codemirror_mode": {
    "name": "ipython",
    "version": 3
   },
   "file_extension": ".py",
   "mimetype": "text/x-python",
   "name": "python",
   "nbconvert_exporter": "python",
   "pygments_lexer": "ipython3",
   "version": "3.6.5"
  }
 },
 "nbformat": 4,
 "nbformat_minor": 2
}
