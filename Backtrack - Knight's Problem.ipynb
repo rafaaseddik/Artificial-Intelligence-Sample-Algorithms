{
 "cells": [
  {
   "cell_type": "code",
   "execution_count": 3,
   "metadata": {},
   "outputs": [],
   "source": [
    "N = 6"
   ]
  },
  {
   "cell_type": "code",
   "execution_count": 4,
   "metadata": {},
   "outputs": [],
   "source": [
    "def isSafe(x,y,sol):\n",
    "    return (x<N and x>=0 and y<N and y>=0) and sol[x][y] is -1 \n",
    "\n",
    "def printSolution(sol):\n",
    "    for i in sol :\n",
    "        for j in i :\n",
    "            print(format(j,\"02\"),end=\" \")\n",
    "        print(\"\\n\")\n",
    "\n",
    "def solve():\n",
    "    #Initialize matrix\n",
    "    sol = [[-1 for i in range(N)] for j in range(N)]\n",
    "    #declare possible 987987   \n",
    "    moves = [(2,1),(2,-1),(-2,1),(-2,-1),(1,2),(1,-2),(-1,2),(-1,-2)]\n",
    "    #Initialize first move\n",
    "    sol[0][0] = 0\n",
    "    \n",
    "    #Try to solve\n",
    "    if(solveReccursive(0,0,1,sol,moves) is False):\n",
    "        print(\"No solution was found\")\n",
    "        return False\n",
    "    else:\n",
    "        printSolution(sol)\n",
    "        return True\n",
    "\n",
    "def solveReccursive(x,y,nextMove,sol,moves):\n",
    "    if(nextMove is N*N):\n",
    "        return True;\n",
    "    for nextX,nextY in moves:\n",
    "        nextX += x\n",
    "        nextY += y\n",
    "        if(isSafe(nextX,nextY,sol)):\n",
    "            sol[nextX][nextY] = nextMove\n",
    "            if(solveReccursive(nextX,nextY,nextMove+1,sol,moves)):\n",
    "                return True\n",
    "            else:\n",
    "                sol[nextX][nextY] = -1\n",
    "    return False"
   ]
  },
  {
   "cell_type": "code",
   "execution_count": 5,
   "metadata": {},
   "outputs": [
    {
     "name": "stdout",
     "output_type": "stream",
     "text": [
      "00 11 20 27 06 09 \n",
      "\n",
      "21 28 07 10 19 26 \n",
      "\n",
      "12 01 22 03 08 05 \n",
      "\n",
      "29 34 31 16 25 18 \n",
      "\n",
      "32 13 02 23 04 15 \n",
      "\n",
      "35 30 33 14 17 24 \n",
      "\n"
     ]
    },
    {
     "data": {
      "text/plain": [
       "True"
      ]
     },
     "execution_count": 5,
     "metadata": {},
     "output_type": "execute_result"
    }
   ],
   "source": [
    "solve()"
   ]
  }
 ],
 "metadata": {
  "kernelspec": {
   "display_name": "Python 3",
   "language": "python",
   "name": "python3"
  },
  "language_info": {
   "codemirror_mode": {
    "name": "ipython",
    "version": 3
   },
   "file_extension": ".py",
   "mimetype": "text/x-python",
   "name": "python",
   "nbconvert_exporter": "python",
   "pygments_lexer": "ipython3",
   "version": "3.6.5"
  }
 },
 "nbformat": 4,
 "nbformat_minor": 2
}
