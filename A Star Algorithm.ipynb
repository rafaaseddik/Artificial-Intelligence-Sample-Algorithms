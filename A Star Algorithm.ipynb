{
 "cells": [
  {
   "cell_type": "markdown",
   "metadata": {},
   "source": [
    "BASED ON https://www.geeksforgeeks.org/a-search-algorithm/"
   ]
  },
  {
   "cell_type": "code",
   "execution_count": 131,
   "metadata": {},
   "outputs": [],
   "source": [
    "import math\n",
    "# Initialize GRID\n",
    "grid= [ \n",
    "        [ 1, 0, 1, 1, 1, 1, 0, 1, 1, 1 ], \n",
    "        [ 1, 1, 1, 0, 1, 1, 1, 0, 1, 1 ], \n",
    "        [ 1, 1, 1, 0, 1, 1, 0, 1, 0, 1 ], \n",
    "        [ 0, 0, 1, 0, 1, 0, 0, 0, 0, 1 ], \n",
    "        [ 1, 1, 1, 0, 1, 1, 1, 0, 1, 0 ], \n",
    "        [ 1, 0, 1, 1, 1, 1, 0, 1, 0, 0 ], \n",
    "        [ 1, 0, 0, 0, 0, 1, 0, 0, 0, 1 ], \n",
    "        [ 1, 0, 1, 1, 1, 1, 0, 1, 1, 1 ], \n",
    "        [ 1, 1, 1, 0, 0, 0, 1, 0, 0, 1 ] \n",
    "    ]; "
   ]
  },
  {
   "cell_type": "code",
   "execution_count": 132,
   "metadata": {},
   "outputs": [],
   "source": [
    "class Found(Exception): \n",
    "    def __init__(self,node):\n",
    "        self.node = node"
   ]
  },
  {
   "cell_type": "code",
   "execution_count": 133,
   "metadata": {},
   "outputs": [],
   "source": [
    "class Node:\n",
    "    maxX=len(grid[0])-1\n",
    "    maxY=len(grid)-1\n",
    "    goalX = 9\n",
    "    goalY=8\n",
    "    def __init__(self,x,y,g,parent):\n",
    "        self.x=x\n",
    "        self.y=y        \n",
    "        self.calculate_h()      \n",
    "        self.g=g                \n",
    "        self.parent = parent\n",
    "    def calculate_h(self):\n",
    "        self.h = math.sqrt(  pow((Node.goalX-self.x),2) + pow((Node.goalY-self.y),2) )\n",
    "    def getF(self):\n",
    "        return self.g + self.h\n",
    "    def getG(self):\n",
    "        return self.g\n",
    "    def getH(self):\n",
    "        return self.h\n",
    "    \n",
    "    def isGoal(self):\n",
    "        return (self.x is Node.goalX) and (self.y is Node.goalY)\n",
    "    #NextChilds\n",
    "    def getNextChild1(self):\n",
    "        if(self.x<=0 or self.y<=0):\n",
    "            return None\n",
    "        return Node(self.x-1,self.y-1,self.g+1,self)\n",
    "    def getNextChild2(self):\n",
    "        if(self.y<=0):\n",
    "            return None\n",
    "        return Node(self.x,self.y-1,self.g+1,self)\n",
    "    def getNextChild3(self):\n",
    "        if(self.x>=Node.maxX or self.y<=0):\n",
    "            return None\n",
    "        return Node(self.x+1,self.y-1,self.g+1,self)\n",
    "    def getNextChild4(self):\n",
    "        if(self.x<=0):\n",
    "            return None\n",
    "        return Node(self.x-1,self.y,self.g+1,self)\n",
    "    def getNextChild5(self):\n",
    "        if(self.x>=Node.maxX):\n",
    "            return None\n",
    "        return Node(self.x+1,self.y,self.g+1,self)\n",
    "    def getNextChild6(self):\n",
    "        if(self.x<=0 or self.y>=Node.maxY):\n",
    "            return None\n",
    "        return Node(self.x-1,self.y+1,self.g+1,self)\n",
    "    def getNextChild7(self):\n",
    "        if(self.y>=Node.maxY):\n",
    "            return None\n",
    "        return Node(self.x,self.y+1,self.g+1,self)\n",
    "    def getNextChild8(self):\n",
    "        if(self.x>=Node.maxX or self.y>=Node.maxY):\n",
    "            return None\n",
    "        return Node(self.x+1,self.y+1,self.g+1,self)\n",
    "    def getpossiblechildren(self):\n",
    "        result = []\n",
    "        if(self.getNextChild1() is not None): result.append(self.getNextChild1())\n",
    "        if(self.getNextChild2() is not None): result.append(self.getNextChild2())\n",
    "        if(self.getNextChild3() is not None): result.append(self.getNextChild3())\n",
    "        if(self.getNextChild4() is not None): result.append(self.getNextChild4())\n",
    "        if(self.getNextChild5() is not None): result.append(self.getNextChild5())\n",
    "        if(self.getNextChild6() is not None): result.append(self.getNextChild6())\n",
    "        if(self.getNextChild7() is not None): result.append(self.getNextChild7())\n",
    "        if(self.getNextChild8() is not None): result.append(self.getNextChild8())\n",
    "        return result\n",
    "    \n",
    "    def __repr__(self):\n",
    "        return str(self.__dict__)\n",
    "    def traceposition(self):\n",
    "        if(self.parent):\n",
    "            print('(',self.x,',',self.y,') ->',end='')\n",
    "            self.parent.traceposition()\n",
    "        else:\n",
    "            print('(',self.x,',',self.y,')')"
   ]
  },
  {
   "cell_type": "code",
   "execution_count": 134,
   "metadata": {},
   "outputs": [],
   "source": [
    "# Initialize Open List & Closed List\n",
    "open_l = []\n",
    "closed_l = []\n",
    "head = Node(0,0,0,None)\n",
    "head.h = 0\n",
    "open_l.append(head)"
   ]
  },
  {
   "cell_type": "code",
   "execution_count": 135,
   "metadata": {},
   "outputs": [
    {
     "name": "stdout",
     "output_type": "stream",
     "text": [
      "FOUND\n",
      "( 9 , 8 ) ->( 8 , 7 ) ->( 7 , 7 ) ->( 6 , 8 ) ->( 5 , 7 ) ->( 5 , 6 ) ->( 4 , 5 ) ->( 3 , 5 ) ->( 2 , 4 ) ->( 2 , 3 ) ->( 2 , 2 ) ->( 1 , 1 ) ->( 0 , 0 )\n"
     ]
    }
   ],
   "source": [
    "try:\n",
    "    while(len(open_l)>0):\n",
    "        q = min(open_l, key=lambda x:int(x.getF()))\n",
    "        open_l.remove(q)\n",
    "        for successor in q.getpossiblechildren():\n",
    "            if(grid[successor.y][successor.x] is 0):continue\n",
    "            if(successor.isGoal()):\n",
    "                print(\"FOUND\")\n",
    "                raise Found(successor) #To break from the For Loop and While Loop\n",
    "            # if a node with the same position as successor is in the OPEN list which has a lower f than successor\n",
    "            succ_in_open = next((x for x in open_l if (x.x is successor.x) and (x.y is successor.y) and (x.getF()<successor.getF())),None)\n",
    "            if(succ_in_open):\n",
    "                continue\n",
    "            #if a node with the same position as successor is in the CLOSED list which has a lower f than successor, skip this successor otherwise\n",
    "            succ_in_closed = next((x for x in closed_l if (x.x is successor.x) and (x.y is successor.y) and (x.getF()<successor.getF())),None)\n",
    "            if(succ_in_closed):\n",
    "                continue\n",
    "            else:\n",
    "                open_l.append(successor)\n",
    "        closed_l.append(q)\n",
    "except Found as found:\n",
    "    found.node.traceposition()\n",
    "            "
   ]
  }
 ],
 "metadata": {
  "kernelspec": {
   "display_name": "Python 3",
   "language": "python",
   "name": "python3"
  },
  "language_info": {
   "codemirror_mode": {
    "name": "ipython",
    "version": 3
   },
   "file_extension": ".py",
   "mimetype": "text/x-python",
   "name": "python",
   "nbconvert_exporter": "python",
   "pygments_lexer": "ipython3",
   "version": "3.6.5"
  }
 },
 "nbformat": 4,
 "nbformat_minor": 2
}
