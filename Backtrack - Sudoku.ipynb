{
 "cells": [
  {
   "cell_type": "code",
   "execution_count": 1,
   "metadata": {},
   "outputs": [],
   "source": [
    "grid = [\n",
    "    [0, 1, 0, 7, 0, 6, 0, 0, 0], \n",
    "    [7, 0, 3, 0, 0, 0, 0, 0, 0], \n",
    "    [0, 2, 0, 5, 4, 0, 0, 0, 0], \n",
    "    [3, 4, 0, 0, 0, 0, 2, 5, 0], \n",
    "    [5, 0, 0, 0, 0, 0, 0, 0, 1], \n",
    "    [0, 8, 1, 0, 0, 0, 0, 7, 4], \n",
    "    [0, 0, 0, 0, 5, 7, 0, 8, 0], \n",
    "    [0, 0, 0, 0, 0, 0, 3, 0, 9], \n",
    "    [0, 0, 0, 8, 0, 1, 0, 4, 0]\n",
    "] \n",
    "def printSolution(sol):\n",
    "    for i in sol :\n",
    "        for j in i :\n",
    "            print(j,end=\" \")\n",
    "        print(\"\\n\")\n",
    "def isUsedInBox(x,y,num):\n",
    "    boxX,boxY = x//3, y//3\n",
    "    for i in range(3):\n",
    "        for j in range(3):\n",
    "            if(grid[j+3*boxY][i+3*boxX] is num):\n",
    "                return True\n",
    "    return False\n",
    "def isSafe(x,y,num):\n",
    "    for i in range(9):\n",
    "        if(grid[i][x] is num):\n",
    "            return False\n",
    "    for i in range(9):\n",
    "        if(grid[y][i] is num):\n",
    "            return False\n",
    "    if(isUsedInBox(x,y,num)):return False\n",
    "    return True\n",
    "def getEmptyFields():\n",
    "    result = []\n",
    "    for i in range(9):\n",
    "        for j in range(9):\n",
    "            if(grid[j][i] is 0):\n",
    "                result.append((i,j))\n",
    "    return result"
   ]
  },
  {
   "cell_type": "code",
   "execution_count": 2,
   "metadata": {},
   "outputs": [],
   "source": [
    "def solve():\n",
    "    if(solveReccursive(getEmptyFields())):\n",
    "        printSolution(grid)\n",
    "        return True\n",
    "    else:\n",
    "        print(\"No solution was found\")\n",
    "        return False\n",
    "\n",
    "def solveReccursive(remaining):\n",
    "    if(len(remaining) is 0):\n",
    "        return True\n",
    "    currentX,currentY = remaining[0]\n",
    "    for possibleValue in [i for i in range(1,10) if isSafe(currentX,currentY,i)]:\n",
    "        grid[currentY][currentX] = possibleValue\n",
    "        if(solveReccursive(remaining[1:])):\n",
    "            return True\n",
    "        grid[currentY][currentX] = 0\n",
    "    return False\n",
    "        "
   ]
  },
  {
   "cell_type": "code",
   "execution_count": 3,
   "metadata": {},
   "outputs": [
    {
     "name": "stdout",
     "output_type": "stream",
     "text": [
      "4 1 9 7 8 6 5 2 3 \n",
      "\n",
      "7 5 3 2 1 9 4 6 8 \n",
      "\n",
      "6 2 8 5 4 3 1 9 7 \n",
      "\n",
      "3 4 7 1 9 8 2 5 6 \n",
      "\n",
      "5 9 6 4 7 2 8 3 1 \n",
      "\n",
      "2 8 1 3 6 5 9 7 4 \n",
      "\n",
      "1 3 4 9 5 7 6 8 2 \n",
      "\n",
      "8 7 5 6 2 4 3 1 9 \n",
      "\n",
      "9 6 2 8 3 1 7 4 5 \n",
      "\n"
     ]
    },
    {
     "data": {
      "text/plain": [
       "True"
      ]
     },
     "execution_count": 3,
     "metadata": {},
     "output_type": "execute_result"
    }
   ],
   "source": [
    "solve()"
   ]
  }
 ],
 "metadata": {
  "kernelspec": {
   "display_name": "Python 3",
   "language": "python",
   "name": "python3"
  },
  "language_info": {
   "codemirror_mode": {
    "name": "ipython",
    "version": 3
   },
   "file_extension": ".py",
   "mimetype": "text/x-python",
   "name": "python",
   "nbconvert_exporter": "python",
   "pygments_lexer": "ipython3",
   "version": "3.6.5"
  }
 },
 "nbformat": 4,
 "nbformat_minor": 2
}
